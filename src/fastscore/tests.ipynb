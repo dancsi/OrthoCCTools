{
 "cells": [
  {
   "cell_type": "code",
   "execution_count": 1,
   "metadata": {
    "collapsed": false
   },
   "outputs": [
    {
     "name": "stdout",
     "output_type": "stream",
     "text": [
      "c:\\Projekti_KI\\ortoCC\\CoiledCoilOrtho\\src\\fastscore\n"
     ]
    }
   ],
   "source": [
    "from __future__ import division\n",
    "%load_ext autoreload\n",
    "%autoreload 2\n",
    "import os\n",
    "print os.getcwd()\n",
    "import hepran\n",
    "from hepran.bzipscore import *\n",
    "import hepran.utils as u"
   ]
  },
  {
   "cell_type": "code",
   "execution_count": 9,
   "metadata": {
    "collapsed": false
   },
   "outputs": [
    {
     "name": "stdout",
     "output_type": "stream",
     "text": [
      "-6.06680011749\n",
      "-4.51173019409\n",
      "-4.90588998795\n"
     ]
    }
   ],
   "source": [
    "import fastscoreCC\n",
    "inter = fastscoreCC.Interaction()\n",
    "inter.init_complete_score()\n",
    "print inter.score_complete(\"DEIQALEEENAQLEQENAALEEEIAQLEYG\",\"DKIAQLKEKNAALKEKNQQLKEKIQALKYG\") \n",
    "print inter.score_complete(\"AAA\",\"AAA\") \n",
    "print inter.score_complete(\"HHHHHHHHHHHHHHHH\",\"HHHHHHHHHHHHHHHH\") "
   ]
  },
  {
   "cell_type": "code",
   "execution_count": 9,
   "metadata": {
    "collapsed": true
   },
   "outputs": [],
   "source": [
    "#time"
   ]
  },
  {
   "cell_type": "code",
   "execution_count": 14,
   "metadata": {
    "collapsed": false
   },
   "outputs": [],
   "source": [
    "score=load_score_file(\"data/PNIC-complete.out\")\n",
    "ids = get_ids_from_fasta(\"data/PNIC.fasta\")\n",
    "seqs = hepran.bzipscore.get_dict_from_fasta(\"data/PNIC.fasta\")"
   ]
  },
  {
   "cell_type": "code",
   "execution_count": 27,
   "metadata": {
    "collapsed": false
   },
   "outputs": [
    {
     "name": "stdout",
     "output_type": "stream",
     "text": [
      "key P1 , P1 : should be -5.2309 but is -4.8213 (diff -0.4096)\n",
      "key P1 , P10: should be -6.5961 but is -5.4438 (diff -1.1523)\n",
      "key P1 , P11: should be -4.1243 but is -4.4760 (diff +0.3517)\n",
      "key P1 , P12: should be -5.7684 but is -5.0943 (diff -0.6741)\n",
      "key P1 , P2 : should be -7.9736 but is -6.0668 (diff -1.9068)\n",
      "key P1 , P3 : should be -5.5018 but is -5.0990 (diff -0.4028)\n",
      "key P1 , P4 : should be -5.5977 but is -5.0810 (diff -0.5167)\n",
      "key P1 , P5 : should be -6.1964 but is -5.1527 (diff -1.0437)\n",
      "key P1 , P6 : should be -5.8012 but is -5.1257 (diff -0.6756)\n",
      "key P1 , P7 : should be -5.5614 but is -5.0990 (diff -0.4624)\n",
      "key P1 , P8 : should be -5.5381 but is -5.0810 (diff -0.4571)\n",
      "key P1 , P9 : should be -5.4015 but is -4.8346 (diff -0.5669)\n",
      "key P10, P10: should be -6.7603 but is -5.2592 (diff -1.5011)\n",
      "key P10, P11: should be -6.7817 but is -5.3816 (diff -1.4002)\n",
      "key P10, P12: should be -7.3608 but is -5.6456 (diff -1.7152)\n",
      "key P10, P2 : should be -6.3986 but is -5.4002 (diff -0.9984)\n",
      "key P10, P3 : should be -4.8435 but is -4.7867 (diff -0.0568)\n",
      "key P10, P4 : should be -6.4621 but is -5.4340 (diff -1.0281)\n",
      "key P10, P5 : should be -7.7574 but is -5.8880 (diff -1.8694)\n",
      "key P10, P6 : should be -6.3851 but is -5.1392 (diff -1.2460)\n",
      "key P10, P7 : should be -7.3393 but is -5.8342 (diff -1.5051)\n",
      "key P10, P8 : should be -5.6554 but is -5.0098 (diff -0.6456)\n",
      "key P10, P9 : should be -9.0714 but is -6.3912 (diff -2.6801)\n",
      "key P11, P11: should be -6.5573 but is -5.0512 (diff -1.5061)\n",
      "key P11, P12: should be -8.8631 but is -6.2782 (diff -2.5849)\n",
      "key P11, P2 : should be -5.7722 but is -5.2541 (diff -0.5181)\n",
      "key P11, P3 : should be -5.6668 but is -5.0368 (diff -0.6301)\n",
      "key P11, P4 : should be -6.7505 but is -5.4862 (diff -1.2643)\n",
      "key P11, P5 : should be -6.8390 but is -5.5438 (diff -1.2952)\n",
      "key P11, P6 : should be -6.0606 but is -4.9928 (diff -1.0678)\n",
      "key P11, P7 : should be -5.6074 but is -4.9237 (diff -0.6837)\n",
      "key P11, P8 : should be -6.8099 but is -5.5992 (diff -1.2107)\n",
      "key P11, P9 : should be -6.1179 but is -5.1550 (diff -0.9629)\n",
      "key P12, P12: should be -7.0622 but is -5.4096 (diff -1.6526)\n",
      "key P12, P2 : should be -5.6309 but is -5.1638 (diff -0.4671)\n",
      "key P12, P3 : should be -7.0141 but is -5.6834 (diff -1.3307)\n",
      "key P12, P4 : should be -6.0743 but is -5.1981 (diff -0.8762)\n",
      "key P12, P5 : should be -6.3909 but is -5.2274 (diff -1.1635)\n",
      "key P12, P6 : should be -7.8453 but is -5.8372 (diff -2.0081)\n",
      "key P12, P7 : should be -7.2820 but is -5.7964 (diff -1.4856)\n",
      "key P12, P8 : should be -5.8063 but is -5.0850 (diff -0.7213)\n",
      "key P12, P9 : should be -6.8754 but is -5.4190 (diff -1.4564)\n",
      "key P2 , P2 : should be -6.9074 but is -5.6689 (diff -1.2385)\n",
      "key P2 , P3 : should be -6.2810 but is -5.5228 (diff -0.7583)\n",
      "key P2 , P4 : should be -6.4950 but is -5.5048 (diff -0.9902)\n",
      "key P2 , P5 : should be -6.9670 but is -5.6895 (diff -1.2775)\n",
      "key P2 , P6 : should be -6.5410 but is -5.4364 (diff -1.1046)\n",
      "key P2 , P7 : should be -6.4299 but is -5.5228 (diff -0.9071)\n",
      "key P2 , P8 : should be -6.3461 but is -5.5048 (diff -0.8413)\n",
      "key P2 , P9 : should be -7.1095 but is -5.7257 (diff -1.3837)\n",
      "key P3 , P3 : should be -6.2109 but is -5.2347 (diff -0.9762)\n",
      "key P3 , P4 : should be -8.0926 but is -6.1798 (diff -1.9128)\n",
      "key P3 , P5 : should be -6.3306 but is -5.3877 (diff -0.9429)\n",
      "key P3 , P6 : should be -6.3503 but is -5.3324 (diff -1.0179)\n",
      "key P3 , P7 : should be -5.9777 but is -5.3764 (diff -0.6013)\n",
      "key P3 , P8 : should be -5.8051 but is -5.2454 (diff -0.5597)\n",
      "key P3 , P9 : should be -5.3166 but is -5.1406 (diff -0.1760)\n",
      "key P4 , P4 : should be -5.6892 but is -5.0294 (diff -0.6599)\n",
      "key P4 , P5 : should be -6.4169 but is -5.3698 (diff -1.0471)\n",
      "key P4 , P6 : should be -6.4078 but is -5.3144 (diff -1.0934)\n",
      "key P4 , P7 : should be -6.0136 but is -5.2454 (diff -0.7682)\n",
      "key P4 , P8 : should be -6.0791 but is -5.3405 (diff -0.7386)\n",
      "key P4 , P9 : should be -4.6736 but is -4.6270 (diff -0.0466)\n",
      "key P5 , P5 : should be -6.5900 but is -5.1727 (diff -1.4173)\n",
      "key P5 , P6 : should be -9.1606 but is -6.3912 (diff -2.7693)\n",
      "key P5 , P7 : should be -5.2040 but is -4.9913 (diff -0.2127)\n",
      "key P5 , P8 : should be -5.4386 but is -5.0581 (diff -0.3805)\n",
      "key P5 , P9 : should be -5.8883 but is -4.9679 (diff -0.9204)\n",
      "key P6 , P6 : should be -6.4345 but is -5.0620 (diff -1.3724)\n",
      "key P6 , P7 : should be -5.1647 but is -4.9360 (diff -0.2287)\n",
      "key P6 , P8 : should be -5.4885 but is -5.0028 (diff -0.4857)\n",
      "key P6 , P9 : should be -7.1050 but is -5.6060 (diff -1.4989)\n",
      "key P7 , P7 : should be -6.0922 but is -5.0087 (diff -1.0835)\n",
      "key P7 , P8 : should be -8.4200 but is -6.4059 (diff -2.0140)\n",
      "key P7 , P9 : should be -5.5501 but is -4.8859 (diff -0.6642)\n",
      "key P8 , P8 : should be -5.1534 but is -4.8033 (diff -0.3501)\n",
      "key P8 , P9 : should be -6.9608 but is -5.6744 (diff -1.2864)\n",
      "key P9 , P9 : should be -6.4427 but is -4.9755 (diff -1.4672)\n"
     ]
    }
   ],
   "source": [
    "for k1, k2 in sorted(score.keys()):\n",
    "    s = score [k1,k2]\n",
    "    cs = inter.score_complete(seqs[k1],seqs[k2])\n",
    "    d = s - cs\n",
    "    if s != cs:\n",
    "        print \"key {:<3}, {:<3}: should be {:2.4f} but is {:2.4f} (diff {:+2.4f})\".format(k1, k2, s, cs, d)"
   ]
  },
  {
   "cell_type": "code",
   "execution_count": null,
   "metadata": {
    "collapsed": true
   },
   "outputs": [],
   "source": []
  }
 ],
 "metadata": {
  "kernelspec": {
   "display_name": "Python 2",
   "language": "python",
   "name": "python2"
  },
  "language_info": {
   "codemirror_mode": {
    "name": "ipython",
    "version": 2
   },
   "file_extension": ".py",
   "mimetype": "text/x-python",
   "name": "python",
   "nbconvert_exporter": "python",
   "pygments_lexer": "ipython2",
   "version": "2.7.8"
  }
 },
 "nbformat": 4,
 "nbformat_minor": 0
}
