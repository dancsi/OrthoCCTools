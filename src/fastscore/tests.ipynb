{
 "cells": [
  {
   "cell_type": "code",
   "execution_count": 2,
   "metadata": {
    "collapsed": false
   },
   "outputs": [
    {
     "name": "stdout",
     "output_type": "stream",
     "text": [
      "c:\\Projekti_KI\\ortoCC\\CoiledCoilOrtho\\src\\fastscore\n"
     ]
    }
   ],
   "source": [
    "from __future__ import division\n",
    "%load_ext autoreload\n",
    "%autoreload 2\n",
    "import os\n",
    "print os.getcwd()\n",
    "import hepran\n",
    "from hepran.bzipscore import *\n",
    "import hepran.utils as u"
   ]
  },
  {
   "cell_type": "code",
   "execution_count": 11,
   "metadata": {
    "collapsed": false
   },
   "outputs": [
    {
     "name": "stdout",
     "output_type": "stream",
     "text": [
      "-7.59162950516\n",
      "-4.48149013519\n",
      "-5.2698097229\n"
     ]
    }
   ],
   "source": [
    "import fastscoreCC\n",
    "inter = fastscoreCC.Interaction()\n",
    "inter.init_complete_score()\n",
    "inter.get_heptad()\n",
    "inter.get_duplets()\n",
    "inter.get_triplets()\n",
    "print inter.score_complete(\"DEIQALEEENAQLEQENAALEEEIAQLEYG\",\"DKIAQLKEKNAALKEKNQQLKEKIQALKYG\") \n",
    "print inter.score_complete(\"AAA\",\"AAA\") \n",
    "print inter.score_complete(\"HHHHHHHHHHHHHHHH\",\"HHHHHHHHHHHHHHHH\") "
   ]
  },
  {
   "cell_type": "code",
   "execution_count": 7,
   "metadata": {
    "collapsed": true
   },
   "outputs": [],
   "source": [
    "#time\n",
    "inter.get_heptad()\n",
    "inter.get_duplets()\n",
    "inter.get_triplets()"
   ]
  },
  {
   "cell_type": "code",
   "execution_count": 8,
   "metadata": {
    "collapsed": false
   },
   "outputs": [],
   "source": [
    "score=load_score_file(\"data/PNIC-complete.out\")\n",
    "ids = get_ids_from_fasta(\"data/PNIC.fasta\")\n",
    "seqs = hepran.bzipscore.get_dict_from_fasta(\"data/PNIC.fasta\")"
   ]
  },
  {
   "cell_type": "code",
   "execution_count": 9,
   "metadata": {
    "collapsed": false
   },
   "outputs": [
    {
     "name": "stdout",
     "output_type": "stream",
     "text": [
      "key P1 , P1 : should be -5.2309 but is -5.3799 (diff +0.1491)\n",
      "key P1 , P10: should be -6.5961 but is -7.2475 (diff +0.6514)\n",
      "key P1 , P11: should be -4.1243 but is -4.3441 (diff +0.2198)\n",
      "key P1 , P12: should be -5.7684 but is -6.1991 (diff +0.4307)\n",
      "key P1 , P2 : should be -7.9736 but is -9.1165 (diff +1.1429)\n",
      "key P1 , P3 : should be -5.5018 but is -6.2130 (diff +0.7113)\n",
      "key P1 , P4 : should be -5.5977 but is -6.1592 (diff +0.5614)\n",
      "key P1 , P5 : should be -6.1964 but is -6.3742 (diff +0.1778)\n",
      "key P1 , P6 : should be -5.8012 but is -6.2931 (diff +0.4918)\n",
      "key P1 , P7 : should be -5.5614 but is -6.2130 (diff +0.6516)\n",
      "key P1 , P8 : should be -5.5381 but is -6.1592 (diff +0.6211)\n",
      "key P1 , P9 : should be -5.4015 but is -5.4198 (diff +0.0183)\n",
      "key P10, P10: should be -6.7603 but is -6.6937 (diff -0.0666)\n",
      "key P10, P11: should be -6.7817 but is -7.0608 (diff +0.2790)\n",
      "key P10, P12: should be -7.3608 but is -7.8527 (diff +0.4919)\n",
      "key P10, P2 : should be -6.3986 but is -7.1167 (diff +0.7181)\n",
      "key P10, P3 : should be -4.8435 but is -5.2763 (diff +0.4328)\n",
      "key P10, P4 : should be -6.4621 but is -7.2179 (diff +0.7559)\n",
      "key P10, P5 : should be -7.7574 but is -8.5800 (diff +0.8226)\n",
      "key P10, P6 : should be -6.3851 but is -6.3335 (diff -0.0516)\n",
      "key P10, P7 : should be -7.3393 but is -8.4188 (diff +1.0794)\n",
      "key P10, P8 : should be -5.6554 but is -5.9454 (diff +0.2901)\n",
      "key P10, P9 : should be -9.0714 but is -10.0898 (diff +1.0184)\n",
      "key P11, P11: should be -6.5573 but is -6.0695 (diff -0.4878)\n",
      "key P11, P12: should be -8.8631 but is -9.7507 (diff +0.8876)\n",
      "key P11, P2 : should be -5.7722 but is -6.6785 (diff +0.9062)\n",
      "key P11, P3 : should be -5.6668 but is -6.0263 (diff +0.3595)\n",
      "key P11, P4 : should be -6.7505 but is -7.3746 (diff +0.6241)\n",
      "key P11, P5 : should be -6.8390 but is -7.5474 (diff +0.7084)\n",
      "key P11, P6 : should be -6.0606 but is -5.8943 (diff -0.1663)\n",
      "key P11, P7 : should be -5.6074 but is -5.6872 (diff +0.0798)\n",
      "key P11, P8 : should be -6.8099 but is -7.7137 (diff +0.9038)\n",
      "key P11, P9 : should be -6.1179 but is -6.3810 (diff +0.2631)\n",
      "key P12, P12: should be -7.0622 but is -7.1450 (diff +0.0828)\n",
      "key P12, P2 : should be -5.6309 but is -6.4074 (diff +0.7765)\n",
      "key P12, P3 : should be -7.0141 but is -7.9662 (diff +0.9521)\n",
      "key P12, P4 : should be -6.0743 but is -6.5102 (diff +0.4360)\n",
      "key P12, P5 : should be -6.3909 but is -6.5981 (diff +0.2073)\n",
      "key P12, P6 : should be -7.8453 but is -8.4276 (diff +0.5822)\n",
      "key P12, P7 : should be -7.2820 but is -8.3053 (diff +1.0233)\n",
      "key P12, P8 : should be -5.8063 but is -6.1711 (diff +0.3648)\n",
      "key P12, P9 : should be -6.8754 but is -7.1730 (diff +0.2976)\n",
      "key P2 , P2 : should be -6.9074 but is -7.9227 (diff +1.0153)\n",
      "key P2 , P3 : should be -6.2810 but is -7.4844 (diff +1.2034)\n",
      "key P2 , P4 : should be -6.4950 but is -7.4305 (diff +0.9355)\n",
      "key P2 , P5 : should be -6.9670 but is -7.9847 (diff +1.0177)\n",
      "key P2 , P6 : should be -6.5410 but is -7.2253 (diff +0.6843)\n",
      "key P2 , P7 : should be -6.4299 but is -7.4844 (diff +1.0545)\n",
      "key P2 , P8 : should be -6.3461 but is -7.4305 (diff +1.0844)\n",
      "key P2 , P9 : should be -7.1095 but is -8.0933 (diff +0.9838)\n",
      "key P3 , P3 : should be -6.2109 but is -6.6202 (diff +0.4093)\n",
      "key P3 , P4 : should be -8.0926 but is -9.4556 (diff +1.3629)\n",
      "key P3 , P5 : should be -6.3306 but is -7.0793 (diff +0.7486)\n",
      "key P3 , P6 : should be -6.3503 but is -6.9132 (diff +0.5629)\n",
      "key P3 , P7 : should be -5.9777 but is -7.0452 (diff +1.0675)\n",
      "key P3 , P8 : should be -5.8051 but is -6.6522 (diff +0.8471)\n",
      "key P3 , P9 : should be -5.3166 but is -6.3378 (diff +1.0212)\n",
      "key P4 , P4 : should be -5.6892 but is -6.0041 (diff +0.3149)\n",
      "key P4 , P5 : should be -6.4169 but is -7.0254 (diff +0.6085)\n",
      "key P4 , P6 : should be -6.4078 but is -6.8594 (diff +0.4516)\n",
      "key P4 , P7 : should be -6.0136 but is -6.6522 (diff +0.6386)\n",
      "key P4 , P8 : should be -6.0791 but is -6.9375 (diff +0.8584)\n",
      "key P4 , P9 : should be -4.6736 but is -4.7969 (diff +0.1234)\n",
      "key P5 , P5 : should be -6.5900 but is -6.4342 (diff -0.1559)\n",
      "key P5 , P6 : should be -9.1606 but is -10.0898 (diff +0.9292)\n",
      "key P5 , P7 : should be -5.2040 but is -5.8901 (diff +0.6861)\n",
      "key P5 , P8 : should be -5.4386 but is -6.0905 (diff +0.6518)\n",
      "key P5 , P9 : should be -5.8883 but is -5.8198 (diff -0.0685)\n",
      "key P6 , P6 : should be -6.4345 but is -6.1021 (diff -0.3324)\n",
      "key P6 , P7 : should be -5.1647 but is -5.7240 (diff +0.5594)\n",
      "key P6 , P8 : should be -5.4885 but is -5.9244 (diff +0.4359)\n",
      "key P6 , P9 : should be -7.1050 but is -7.7341 (diff +0.6292)\n",
      "key P7 , P7 : should be -6.0922 but is -5.9420 (diff -0.1501)\n",
      "key P7 , P8 : should be -8.4200 but is -10.1338 (diff +1.7139)\n",
      "key P7 , P9 : should be -5.5501 but is -5.5737 (diff +0.0236)\n",
      "key P8 , P8 : should be -5.1534 but is -5.3259 (diff +0.1725)\n",
      "key P8 , P9 : should be -6.9608 but is -7.9394 (diff +0.9785)\n",
      "key P9 , P9 : should be -6.4427 but is -5.8426 (diff -0.6001)\n"
     ]
    }
   ],
   "source": [
    "for k1, k2 in sorted(score.keys()):\n",
    "    s = score [k1,k2]\n",
    "    cs = inter.score_complete(seqs[k1],seqs[k2])\n",
    "    d = s - cs\n",
    "    if s != cs:\n",
    "        print \"key {:<3}, {:<3}: should be {:2.4f} but is {:2.4f} (diff {:+2.4f})\".format(k1, k2, s, cs, d)"
   ]
  },
  {
   "cell_type": "code",
   "execution_count": null,
   "metadata": {
    "collapsed": true
   },
   "outputs": [],
   "source": []
  }
 ],
 "metadata": {
  "kernelspec": {
   "display_name": "Python 2",
   "language": "python",
   "name": "python2"
  },
  "language_info": {
   "codemirror_mode": {
    "name": "ipython",
    "version": 2
   },
   "file_extension": ".py",
   "mimetype": "text/x-python",
   "name": "python",
   "nbconvert_exporter": "python",
   "pygments_lexer": "ipython2",
   "version": "2.7.11"
  }
 },
 "nbformat": 4,
 "nbformat_minor": 0
}
