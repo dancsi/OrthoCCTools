{
 "cells": [
  {
   "cell_type": "code",
   "execution_count": 1,
   "metadata": {
    "collapsed": false
   },
   "outputs": [
    {
     "name": "stdout",
     "output_type": "stream",
     "text": [
      "c:\\Projekti_KI\\ortoCC\\CoiledCoilOrtho\\src\\fastscore\n"
     ]
    }
   ],
   "source": [
    "from __future__ import division\n",
    "%load_ext autoreload\n",
    "%autoreload 2\n",
    "import os\n",
    "print os.getcwd()\n",
    "import hepran\n",
    "from hepran.bzipscore import *\n",
    "import hepran.utils as u"
   ]
  },
  {
   "cell_type": "code",
   "execution_count": 4,
   "metadata": {
    "collapsed": false
   },
   "outputs": [
    {
     "ename": "TypeError",
     "evalue": "in method 'Interaction_score_complete', argument 2 of type 'std::string &'",
     "output_type": "error",
     "traceback": [
      "\u001b[0;31m---------------------------------------------------------------------------\u001b[0m",
      "\u001b[0;31mTypeError\u001b[0m                                 Traceback (most recent call last)",
      "\u001b[0;32m<ipython-input-4-99706e47e216>\u001b[0m in \u001b[0;36m<module>\u001b[0;34m()\u001b[0m\n\u001b[1;32m      2\u001b[0m \u001b[0minter\u001b[0m \u001b[0;34m=\u001b[0m \u001b[0mfastscoreCC\u001b[0m\u001b[0;34m.\u001b[0m\u001b[0mInteraction\u001b[0m\u001b[0;34m(\u001b[0m\u001b[0;34m)\u001b[0m\u001b[0;34m\u001b[0m\u001b[0m\n\u001b[1;32m      3\u001b[0m \u001b[0minter\u001b[0m\u001b[0;34m.\u001b[0m\u001b[0minit_complete_score\u001b[0m\u001b[0;34m(\u001b[0m\u001b[0;34m)\u001b[0m\u001b[0;34m\u001b[0m\u001b[0m\n\u001b[0;32m----> 4\u001b[0;31m \u001b[0;32mprint\u001b[0m \u001b[0minter\u001b[0m\u001b[0;34m.\u001b[0m\u001b[0mscore_complete\u001b[0m\u001b[0;34m(\u001b[0m\u001b[0;34mb\"DEIQALEEENAQLEQENAALEEEIAQLEYG\"\u001b[0m\u001b[0;34m,\u001b[0m \u001b[0;34m\"DKIAQLKEKNAALKEKNQQLKEKIQALKYG\"\u001b[0m\u001b[0;34m,\u001b[0m \u001b[0;36m0\u001b[0m\u001b[0;34m)\u001b[0m\u001b[0;34m\u001b[0m\u001b[0m\n\u001b[0m\u001b[1;32m      5\u001b[0m \u001b[0;32mprint\u001b[0m \u001b[0minter\u001b[0m\u001b[0;34m.\u001b[0m\u001b[0mscore_complete\u001b[0m\u001b[0;34m(\u001b[0m\u001b[0;34m\"AAA\"\u001b[0m\u001b[0;34m,\u001b[0m\u001b[0;34m\"AAA\"\u001b[0m\u001b[0;34m,\u001b[0m \u001b[0;36m0\u001b[0m\u001b[0;34m)\u001b[0m\u001b[0;34m\u001b[0m\u001b[0m\n\u001b[1;32m      6\u001b[0m \u001b[0;32mprint\u001b[0m \u001b[0minter\u001b[0m\u001b[0;34m.\u001b[0m\u001b[0mscore_complete\u001b[0m\u001b[0;34m(\u001b[0m\u001b[0;34m\"HHHHHHHHHHHHHHHH\"\u001b[0m\u001b[0;34m,\u001b[0m\u001b[0;34m\"HHHHHHHHHHHHHHHH\"\u001b[0m\u001b[0;34m,\u001b[0m \u001b[0;36m0\u001b[0m\u001b[0;34m)\u001b[0m\u001b[0;34m\u001b[0m\u001b[0m\n",
      "\u001b[0;32mc:\\Projekti_KI\\ortoCC\\CoiledCoilOrtho\\src\\fastscore\\fastscoreCC.pyc\u001b[0m in \u001b[0;36mscore_complete\u001b[0;34m(self, arg2, arg3, arg4)\u001b[0m\n\u001b[1;32m    286\u001b[0m \u001b[0;34m\u001b[0m\u001b[0m\n\u001b[1;32m    287\u001b[0m     \u001b[0;32mdef\u001b[0m \u001b[0mscore_complete\u001b[0m\u001b[0;34m(\u001b[0m\u001b[0mself\u001b[0m\u001b[0;34m,\u001b[0m \u001b[0marg2\u001b[0m\u001b[0;34m,\u001b[0m \u001b[0marg3\u001b[0m\u001b[0;34m,\u001b[0m \u001b[0marg4\u001b[0m\u001b[0;34m)\u001b[0m\u001b[0;34m:\u001b[0m\u001b[0;34m\u001b[0m\u001b[0m\n\u001b[0;32m--> 288\u001b[0;31m         \u001b[0;32mreturn\u001b[0m \u001b[0m_fastscoreCC\u001b[0m\u001b[0;34m.\u001b[0m\u001b[0mInteraction_score_complete\u001b[0m\u001b[0;34m(\u001b[0m\u001b[0mself\u001b[0m\u001b[0;34m,\u001b[0m \u001b[0marg2\u001b[0m\u001b[0;34m,\u001b[0m \u001b[0marg3\u001b[0m\u001b[0;34m,\u001b[0m \u001b[0marg4\u001b[0m\u001b[0;34m)\u001b[0m\u001b[0;34m\u001b[0m\u001b[0m\n\u001b[0m\u001b[1;32m    289\u001b[0m     \u001b[0m__swig_destroy__\u001b[0m \u001b[0;34m=\u001b[0m \u001b[0m_fastscoreCC\u001b[0m\u001b[0;34m.\u001b[0m\u001b[0mdelete_Interaction\u001b[0m\u001b[0;34m\u001b[0m\u001b[0m\n\u001b[1;32m    290\u001b[0m     \u001b[0m__del__\u001b[0m \u001b[0;34m=\u001b[0m \u001b[0;32mlambda\u001b[0m \u001b[0mself\u001b[0m\u001b[0;34m:\u001b[0m \u001b[0mNone\u001b[0m\u001b[0;34m\u001b[0m\u001b[0m\n",
      "\u001b[0;31mTypeError\u001b[0m: in method 'Interaction_score_complete', argument 2 of type 'std::string &'"
     ]
    }
   ],
   "source": [
    "import fastscoreCC\n",
    "inter = fastscoreCC.Interaction()\n",
    "inter.init_complete_score()\n",
    "print inter.score_complete(b\"DEIQALEEENAQLEQENAALEEEIAQLEYG\", \"DKIAQLKEKNAALKEKNQQLKEKIQALKYG\", 0) \n",
    "print inter.score_complete(\"AAA\",\"AAA\", 0) \n",
    "print inter.score_complete(\"HHHHHHHHHHHHHHHH\",\"HHHHHHHHHHHHHHHH\", 0) "
   ]
  },
  {
   "cell_type": "code",
   "execution_count": 5,
   "metadata": {
    "collapsed": false
   },
   "outputs": [
    {
     "ename": "TypeError",
     "evalue": "in method 'Interaction_score_complete', argument 2 of type 'std::string &'",
     "output_type": "error",
     "traceback": [
      "\u001b[0;31m---------------------------------------------------------------------------\u001b[0m",
      "\u001b[0;31mTypeError\u001b[0m                                 Traceback (most recent call last)",
      "\u001b[0;32m<ipython-input-5-b23b6b31acf4>\u001b[0m in \u001b[0;36m<module>\u001b[0;34m()\u001b[0m\n\u001b[0;32m----> 1\u001b[0;31m \u001b[0minter\u001b[0m\u001b[0;34m.\u001b[0m\u001b[0mscore_complete\u001b[0m\u001b[0;34m(\u001b[0m\u001b[0marg2\u001b[0m\u001b[0;34m=\u001b[0m\u001b[0;34m\"AAAAAAAAAAAAA\"\u001b[0m\u001b[0;34m,\u001b[0m \u001b[0marg3\u001b[0m\u001b[0;34m=\u001b[0m\u001b[0;34m\"AAAAAAAAAAAAAAAAAAAAAA\"\u001b[0m\u001b[0;34m,\u001b[0m \u001b[0marg4\u001b[0m\u001b[0;34m=\u001b[0m\u001b[0;36m0\u001b[0m\u001b[0;34m)\u001b[0m\u001b[0;34m\u001b[0m\u001b[0m\n\u001b[0m",
      "\u001b[0;32mc:\\Projekti_KI\\ortoCC\\CoiledCoilOrtho\\src\\fastscore\\fastscoreCC.pyc\u001b[0m in \u001b[0;36mscore_complete\u001b[0;34m(self, arg2, arg3, arg4)\u001b[0m\n\u001b[1;32m    286\u001b[0m \u001b[0;34m\u001b[0m\u001b[0m\n\u001b[1;32m    287\u001b[0m     \u001b[0;32mdef\u001b[0m \u001b[0mscore_complete\u001b[0m\u001b[0;34m(\u001b[0m\u001b[0mself\u001b[0m\u001b[0;34m,\u001b[0m \u001b[0marg2\u001b[0m\u001b[0;34m,\u001b[0m \u001b[0marg3\u001b[0m\u001b[0;34m,\u001b[0m \u001b[0marg4\u001b[0m\u001b[0;34m)\u001b[0m\u001b[0;34m:\u001b[0m\u001b[0;34m\u001b[0m\u001b[0m\n\u001b[0;32m--> 288\u001b[0;31m         \u001b[0;32mreturn\u001b[0m \u001b[0m_fastscoreCC\u001b[0m\u001b[0;34m.\u001b[0m\u001b[0mInteraction_score_complete\u001b[0m\u001b[0;34m(\u001b[0m\u001b[0mself\u001b[0m\u001b[0;34m,\u001b[0m \u001b[0marg2\u001b[0m\u001b[0;34m,\u001b[0m \u001b[0marg3\u001b[0m\u001b[0;34m,\u001b[0m \u001b[0marg4\u001b[0m\u001b[0;34m)\u001b[0m\u001b[0;34m\u001b[0m\u001b[0m\n\u001b[0m\u001b[1;32m    289\u001b[0m     \u001b[0m__swig_destroy__\u001b[0m \u001b[0;34m=\u001b[0m \u001b[0m_fastscoreCC\u001b[0m\u001b[0;34m.\u001b[0m\u001b[0mdelete_Interaction\u001b[0m\u001b[0;34m\u001b[0m\u001b[0m\n\u001b[1;32m    290\u001b[0m     \u001b[0m__del__\u001b[0m \u001b[0;34m=\u001b[0m \u001b[0;32mlambda\u001b[0m \u001b[0mself\u001b[0m\u001b[0;34m:\u001b[0m \u001b[0mNone\u001b[0m\u001b[0;34m\u001b[0m\u001b[0m\n",
      "\u001b[0;31mTypeError\u001b[0m: in method 'Interaction_score_complete', argument 2 of type 'std::string &'"
     ]
    }
   ],
   "source": [
    "inter.score_complete(arg2=\"AAAAAAAAAAAAA\", arg3=\"AAAAAAAAAAAAAAAAAAAAAA\", arg4=0)"
   ]
  },
  {
   "cell_type": "code",
   "execution_count": 8,
   "metadata": {
    "collapsed": false
   },
   "outputs": [],
   "source": [
    "score=load_score_file(\"data/PNIC-complete.out\")\n",
    "ids = get_ids_from_fasta(\"data/PNIC.fasta\")\n",
    "seqs = hepran.bzipscore.get_dict_from_fasta(\"data/PNIC.fasta\")"
   ]
  },
  {
   "cell_type": "code",
   "execution_count": 9,
   "metadata": {
    "collapsed": false
   },
   "outputs": [
    {
     "name": "stdout",
     "output_type": "stream",
     "text": [
      "key P1 , P1 : should be -5.2309 but is -5.3799 (diff +0.1491)\n",
      "key P1 , P10: should be -6.5961 but is -7.2475 (diff +0.6514)\n",
      "key P1 , P11: should be -4.1243 but is -4.3441 (diff +0.2198)\n",
      "key P1 , P12: should be -5.7684 but is -6.1991 (diff +0.4307)\n",
      "key P1 , P2 : should be -7.9736 but is -9.1165 (diff +1.1429)\n",
      "key P1 , P3 : should be -5.5018 but is -6.2130 (diff +0.7113)\n",
      "key P1 , P4 : should be -5.5977 but is -6.1592 (diff +0.5614)\n",
      "key P1 , P5 : should be -6.1964 but is -6.3742 (diff +0.1778)\n",
      "key P1 , P6 : should be -5.8012 but is -6.2931 (diff +0.4918)\n",
      "key P1 , P7 : should be -5.5614 but is -6.2130 (diff +0.6516)\n",
      "key P1 , P8 : should be -5.5381 but is -6.1592 (diff +0.6211)\n",
      "key P1 , P9 : should be -5.4015 but is -5.4198 (diff +0.0183)\n",
      "key P10, P10: should be -6.7603 but is -6.6937 (diff -0.0666)\n",
      "key P10, P11: should be -6.7817 but is -7.0608 (diff +0.2790)\n",
      "key P10, P12: should be -7.3608 but is -7.8527 (diff +0.4919)\n",
      "key P10, P2 : should be -6.3986 but is -7.1167 (diff +0.7181)\n",
      "key P10, P3 : should be -4.8435 but is -5.2763 (diff +0.4328)\n",
      "key P10, P4 : should be -6.4621 but is -7.2179 (diff +0.7559)\n",
      "key P10, P5 : should be -7.7574 but is -8.5800 (diff +0.8226)\n",
      "key P10, P6 : should be -6.3851 but is -6.3335 (diff -0.0516)\n",
      "key P10, P7 : should be -7.3393 but is -8.4188 (diff +1.0794)\n",
      "key P10, P8 : should be -5.6554 but is -5.9454 (diff +0.2901)\n",
      "key P10, P9 : should be -9.0714 but is -10.0898 (diff +1.0184)\n",
      "key P11, P11: should be -6.5573 but is -6.0695 (diff -0.4878)\n",
      "key P11, P12: should be -8.8631 but is -9.7507 (diff +0.8876)\n",
      "key P11, P2 : should be -5.7722 but is -6.6785 (diff +0.9062)\n",
      "key P11, P3 : should be -5.6668 but is -6.0263 (diff +0.3595)\n",
      "key P11, P4 : should be -6.7505 but is -7.3746 (diff +0.6241)\n",
      "key P11, P5 : should be -6.8390 but is -7.5474 (diff +0.7084)\n",
      "key P11, P6 : should be -6.0606 but is -5.8943 (diff -0.1663)\n",
      "key P11, P7 : should be -5.6074 but is -5.6872 (diff +0.0798)\n",
      "key P11, P8 : should be -6.8099 but is -7.7137 (diff +0.9038)\n",
      "key P11, P9 : should be -6.1179 but is -6.3810 (diff +0.2631)\n",
      "key P12, P12: should be -7.0622 but is -7.1450 (diff +0.0828)\n",
      "key P12, P2 : should be -5.6309 but is -6.4074 (diff +0.7765)\n",
      "key P12, P3 : should be -7.0141 but is -7.9662 (diff +0.9521)\n",
      "key P12, P4 : should be -6.0743 but is -6.5102 (diff +0.4360)\n",
      "key P12, P5 : should be -6.3909 but is -6.5981 (diff +0.2073)\n",
      "key P12, P6 : should be -7.8453 but is -8.4276 (diff +0.5822)\n",
      "key P12, P7 : should be -7.2820 but is -8.3053 (diff +1.0233)\n",
      "key P12, P8 : should be -5.8063 but is -6.1711 (diff +0.3648)\n",
      "key P12, P9 : should be -6.8754 but is -7.1730 (diff +0.2976)\n",
      "key P2 , P2 : should be -6.9074 but is -7.9227 (diff +1.0153)\n",
      "key P2 , P3 : should be -6.2810 but is -7.4844 (diff +1.2034)\n",
      "key P2 , P4 : should be -6.4950 but is -7.4305 (diff +0.9355)\n",
      "key P2 , P5 : should be -6.9670 but is -7.9847 (diff +1.0177)\n",
      "key P2 , P6 : should be -6.5410 but is -7.2253 (diff +0.6843)\n",
      "key P2 , P7 : should be -6.4299 but is -7.4844 (diff +1.0545)\n",
      "key P2 , P8 : should be -6.3461 but is -7.4305 (diff +1.0844)\n",
      "key P2 , P9 : should be -7.1095 but is -8.0933 (diff +0.9838)\n",
      "key P3 , P3 : should be -6.2109 but is -6.6202 (diff +0.4093)\n",
      "key P3 , P4 : should be -8.0926 but is -9.4556 (diff +1.3629)\n",
      "key P3 , P5 : should be -6.3306 but is -7.0793 (diff +0.7486)\n",
      "key P3 , P6 : should be -6.3503 but is -6.9132 (diff +0.5629)\n",
      "key P3 , P7 : should be -5.9777 but is -7.0452 (diff +1.0675)\n",
      "key P3 , P8 : should be -5.8051 but is -6.6522 (diff +0.8471)\n",
      "key P3 , P9 : should be -5.3166 but is -6.3378 (diff +1.0212)\n",
      "key P4 , P4 : should be -5.6892 but is -6.0041 (diff +0.3149)\n",
      "key P4 , P5 : should be -6.4169 but is -7.0254 (diff +0.6085)\n",
      "key P4 , P6 : should be -6.4078 but is -6.8594 (diff +0.4516)\n",
      "key P4 , P7 : should be -6.0136 but is -6.6522 (diff +0.6386)\n",
      "key P4 , P8 : should be -6.0791 but is -6.9375 (diff +0.8584)\n",
      "key P4 , P9 : should be -4.6736 but is -4.7969 (diff +0.1234)\n",
      "key P5 , P5 : should be -6.5900 but is -6.4342 (diff -0.1559)\n",
      "key P5 , P6 : should be -9.1606 but is -10.0898 (diff +0.9292)\n",
      "key P5 , P7 : should be -5.2040 but is -5.8901 (diff +0.6861)\n",
      "key P5 , P8 : should be -5.4386 but is -6.0905 (diff +0.6518)\n",
      "key P5 , P9 : should be -5.8883 but is -5.8198 (diff -0.0685)\n",
      "key P6 , P6 : should be -6.4345 but is -6.1021 (diff -0.3324)\n",
      "key P6 , P7 : should be -5.1647 but is -5.7240 (diff +0.5594)\n",
      "key P6 , P8 : should be -5.4885 but is -5.9244 (diff +0.4359)\n",
      "key P6 , P9 : should be -7.1050 but is -7.7341 (diff +0.6292)\n",
      "key P7 , P7 : should be -6.0922 but is -5.9420 (diff -0.1501)\n",
      "key P7 , P8 : should be -8.4200 but is -10.1338 (diff +1.7139)\n",
      "key P7 , P9 : should be -5.5501 but is -5.5737 (diff +0.0236)\n",
      "key P8 , P8 : should be -5.1534 but is -5.3259 (diff +0.1725)\n",
      "key P8 , P9 : should be -6.9608 but is -7.9394 (diff +0.9785)\n",
      "key P9 , P9 : should be -6.4427 but is -5.8426 (diff -0.6001)\n"
     ]
    }
   ],
   "source": [
    "for k1, k2 in sorted(score.keys()):\n",
    "    s = score [k1,k2]\n",
    "    cs = inter.score_complete(seqs[k1],seqs[k2])\n",
    "    d = s - cs\n",
    "    if s != cs:\n",
    "        print \"key {:<3}, {:<3}: should be {:2.4f} but is {:2.4f} (diff {:+2.4f})\".format(k1, k2, s, cs, d)"
   ]
  },
  {
   "cell_type": "code",
   "execution_count": null,
   "metadata": {
    "collapsed": true
   },
   "outputs": [],
   "source": []
  }
 ],
 "metadata": {
  "kernelspec": {
   "display_name": "Python 2",
   "language": "python",
   "name": "python2"
  },
  "language_info": {
   "codemirror_mode": {
    "name": "ipython",
    "version": 2
   },
   "file_extension": ".py",
   "mimetype": "text/x-python",
   "name": "python",
   "nbconvert_exporter": "python",
   "pygments_lexer": "ipython2",
   "version": "2.7.11"
  }
 },
 "nbformat": 4,
 "nbformat_minor": 0
}
